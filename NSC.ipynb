{
  "nbformat": 4,
  "nbformat_minor": 0,
  "metadata": {
    "colab": {
      "name": "NSC.ipynb",
      "provenance": []
    },
    "kernelspec": {
      "name": "python3",
      "display_name": "Python 3"
    },
    "language_info": {
      "name": "python"
    }
  },
  "cells": [
    {
      "cell_type": "code",
      "metadata": {
        "id": "Hf_EN_hL9VkC"
      },
      "source": [
        "class Person:\n",
        "\tdef __init__(self, firstName, lastName, idNumber):\n",
        "\t\tself.firstName = firstName\n",
        "\t\tself.lastName = lastName\n",
        "\t\tself.idNumber = idNumber\n",
        "\tdef printPerson(self):\n",
        "\t\tprint(\"Name:\", self.lastName + \",\", self.firstName)\n",
        "\t\tprint(\"ID:\", self.idNumber)\n",
        "       \n",
        "    #   Class Constructor\n",
        "    #   \n",
        "    #   Parameters:\n",
        "    #   firstName - A string denoting the Person's first name.\n",
        "    #   lastName - A string denoting the Person's last name.\n",
        "    #   id - An integer denoting the Person's ID number.\n",
        "    #   scores - An array of integers denoting the Person's test scores.\n",
        "    #\n",
        "    # Write your constructor here\n",
        "def avg(a):\n",
        "    return sum(a)/len(a)\n",
        "\n",
        "def m(a):\n",
        "    return [int(r) for r in list(a.values())[0].split('-')]\n",
        "\n",
        "class Student(Person):\n",
        "    def __init__(self, f, l, i, s):\n",
        "        Person.__init__(self, f, l, i)\n",
        "        self.s = s\n",
        "    def calculate(self):\n",
        "        avgScore = avg(self.s) \n",
        "        scoreList = [\n",
        "          {'O': '90-100'},\n",
        "          {'E': '80-89'},\n",
        "          {'A': '70-79'},\n",
        "          {'P': '55-69'},\n",
        "          {'D': '40-54'},\n",
        "          {'T': '0-39'},\n",
        "        ]\n",
        "        scoreLetter = list([x for x in scoreList if m(x)[0] <= avgScore == avgScore <=m(x)[1]][0].keys())[0]\n",
        "        return '{}'.format(scoreLetter)\n",
        " \n",
        "            \n",
        "\n",
        "line = input().split()\n",
        "firstName = line[0]\n",
        "lastName = line[1]\n",
        "idNum = line[2]\n",
        "numScores = int(input()) # not needed for Python\n",
        "scores = list( map(int, input().split()) )\n",
        "s = Student(firstName, lastName, idNum, scores)\n",
        "s.printPerson()\n",
        "print(\"Grade:\", s.calculate())"
      ],
      "execution_count": null,
      "outputs": []
    }
  ]
}